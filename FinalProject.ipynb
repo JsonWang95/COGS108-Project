{
 "cells": [
  {
   "cell_type": "markdown",
   "metadata": {},
   "source": [
    "# COGS 108 - Final Project\n",
    "## Group 067"
   ]
  },
  {
   "cell_type": "markdown",
   "metadata": {},
   "source": [
    "### Names\n",
    "\n",
    "- Darwin Lee; github: snaivy\n",
    "- Yu-Sen Wang; github: Yu-Sen-Wang\n",
    "- Shoumil Sarkar; github: ShoumilSarkar\n",
    "- Irene Lue; github: irenelue"
   ]
  },
  {
   "cell_type": "markdown",
   "metadata": {},
   "source": [
    "### Group Members IDs\n",
    "\n",
    "- A15730835\n",
    "- A14910881\n",
    "- A15306683\n",
    "- A15754235"
   ]
  },
  {
   "cell_type": "markdown",
   "metadata": {},
   "source": [
    "## Introduction & Background"
   ]
  },
  {
   "cell_type": "markdown",
   "metadata": {},
   "source": [
    "### Overview\n",
    "\n",
    "World of Warcraft (WoW) is a MMORPG (massively multiplayer online role-playing game) created by Blizzard Entertainment. In this context, we wil be focusing on the player versus player (PvP) aspect of the game. \n",
    "\n",
    "We are interested in determining if having more healers on a team during a battleground increases the chances of that team winning said battleground. Healers take on a support role and mend fellow teammates to help them win the battleground. Due to World of Warcraft's matchmaking system, sometimes there is an imbalance of roles on a certain team, where one team may have 0-1 healers and the opposing side would have 2+ healers. This is a sentiment felt the community and often echoed in battleground chat when playing battlegrounds. We wanted to find out if this is backed by data or if it just feels like more healers on one side increases their chances of winning the battleground."
   ]
  },
  {
   "cell_type": "markdown",
   "metadata": {},
   "source": [
    "### Background & Prior Work\n",
    "\n",
    "The data found for World of Warcraft battlegrounds is player data collected from March 2017 - January 2018. It comes from the score screen displayed at the end of each battleground match is completed. The author here added a few extra columns to include statistics on things he thought would be of importance. The data is all from one person. \n",
    "\n",
    "Information we currently have are trends and things that are commonly commented within the World of Warcraft community whether it be through world of mouth, friends, online fourms, in-game world chat, etc.. We want to attempt and see if said trends are hearsay felt by the community or if there is actual data that supports what people are feeling and supposedly seeing. \n",
    "\n",
    "References:\n",
    "1. https://www.kaggle.com/cblesa/world-of-warcraft-battlegrounds/data\n",
    "2. https://us.forums.blizzard.com/en/wow/t/healer-ratio-imbalance/193266\n",
    "3. https://us.battle.net/forums/en/wow/topic/11987848986?page=1"
   ]
  },
  {
   "cell_type": "markdown",
   "metadata": {},
   "source": [
    "### Research Question\n",
    "\n",
    "Does having more healers on one team compared to the other increase the chance of winning the battelground?"
   ]
  },
  {
   "cell_type": "markdown",
   "metadata": {},
   "source": [
    "### Hypothesis \n",
    "\n",
    "From this project we want to explore if having more healers on one faction versus the other in battlegrounds can increase your chances of winning. \n",
    "\n",
    "We think that if there is a bonus event, there will be an increase of players and that might allow for the ratios of healer on both teams to be more balanced. But during non-event times, we think that the side with more healers does have a greater chance of winning. "
   ]
  },
  {
   "cell_type": "markdown",
   "metadata": {},
   "source": [
    "## Dataset(s)\n",
    "- Dataset Name: World of Warcraft Battlegrounds \n",
    "- Link to the dataset: https://www.kaggle.com/cblesa/world-of-warcraft-battlegrounds/data\n",
    "- Number of observations: 52,164\n",
    "- This is a dataset about World of Warcraft Battlegrounds. The data comes from a score screen displayed at the end of each battleground match. The data was recorded by a single after every battleground they finished. \n"
   ]
  },
  {
   "cell_type": "markdown",
   "metadata": {},
   "source": [
    "### Setup"
   ]
  },
  {
   "cell_type": "code",
   "execution_count": 52,
   "metadata": {},
   "outputs": [],
   "source": [
    "# Imports\n",
    "\n",
    "%matplotlib inline\n",
    "import numpy as np\n",
    "import pandas as pd \n",
    "import matplotlib.pyplot as plt\n",
    "import seaborn as sns\n",
    "\n",
    "import patsy\n",
    "import statsmodels.api as sm \n",
    "import scipy.stats as stats \n",
    "from scipy.stats import ttest_ind, chisquare, normaltest"
   ]
  },
  {
   "cell_type": "code",
   "execution_count": 53,
   "metadata": {},
   "outputs": [],
   "source": [
    "df = pd.read_csv(\"wowbgs.csv\")"
   ]
  },
  {
   "cell_type": "code",
   "execution_count": 54,
   "metadata": {},
   "outputs": [
    {
     "data": {
      "text/html": [
       "<div>\n",
       "<style scoped>\n",
       "    .dataframe tbody tr th:only-of-type {\n",
       "        vertical-align: middle;\n",
       "    }\n",
       "\n",
       "    .dataframe tbody tr th {\n",
       "        vertical-align: top;\n",
       "    }\n",
       "\n",
       "    .dataframe thead th {\n",
       "        text-align: right;\n",
       "    }\n",
       "</style>\n",
       "<table border=\"1\" class=\"dataframe\">\n",
       "  <thead>\n",
       "    <tr style=\"text-align: right;\">\n",
       "      <th></th>\n",
       "      <th>Battleground</th>\n",
       "      <th>Code</th>\n",
       "      <th>Faction</th>\n",
       "      <th>Class</th>\n",
       "      <th>KB</th>\n",
       "      <th>D</th>\n",
       "      <th>HK</th>\n",
       "      <th>DD</th>\n",
       "      <th>HD</th>\n",
       "      <th>Honor</th>\n",
       "      <th>Win</th>\n",
       "      <th>Lose</th>\n",
       "      <th>Rol</th>\n",
       "      <th>BE</th>\n",
       "    </tr>\n",
       "  </thead>\n",
       "  <tbody>\n",
       "    <tr>\n",
       "      <th>0</th>\n",
       "      <td>WG</td>\n",
       "      <td>WG1</td>\n",
       "      <td>Horde</td>\n",
       "      <td>Hunter</td>\n",
       "      <td>1</td>\n",
       "      <td>3</td>\n",
       "      <td>14</td>\n",
       "      <td>48155</td>\n",
       "      <td>6641</td>\n",
       "      <td>532</td>\n",
       "      <td>1.0</td>\n",
       "      <td>NaN</td>\n",
       "      <td>dps</td>\n",
       "      <td>NaN</td>\n",
       "    </tr>\n",
       "    <tr>\n",
       "      <th>1</th>\n",
       "      <td>WG</td>\n",
       "      <td>WG1</td>\n",
       "      <td>Horde</td>\n",
       "      <td>Death Knight</td>\n",
       "      <td>1</td>\n",
       "      <td>3</td>\n",
       "      <td>12</td>\n",
       "      <td>27025</td>\n",
       "      <td>7106</td>\n",
       "      <td>377</td>\n",
       "      <td>1.0</td>\n",
       "      <td>NaN</td>\n",
       "      <td>dps</td>\n",
       "      <td>NaN</td>\n",
       "    </tr>\n",
       "    <tr>\n",
       "      <th>2</th>\n",
       "      <td>WG</td>\n",
       "      <td>WG1</td>\n",
       "      <td>Alliance</td>\n",
       "      <td>Paladin</td>\n",
       "      <td>0</td>\n",
       "      <td>1</td>\n",
       "      <td>19</td>\n",
       "      <td>824</td>\n",
       "      <td>93879</td>\n",
       "      <td>252</td>\n",
       "      <td>NaN</td>\n",
       "      <td>1.0</td>\n",
       "      <td>heal</td>\n",
       "      <td>NaN</td>\n",
       "    </tr>\n",
       "    <tr>\n",
       "      <th>3</th>\n",
       "      <td>WG</td>\n",
       "      <td>WG1</td>\n",
       "      <td>Alliance</td>\n",
       "      <td>Paladin</td>\n",
       "      <td>1</td>\n",
       "      <td>2</td>\n",
       "      <td>25</td>\n",
       "      <td>7046</td>\n",
       "      <td>98599</td>\n",
       "      <td>274</td>\n",
       "      <td>NaN</td>\n",
       "      <td>1.0</td>\n",
       "      <td>heal</td>\n",
       "      <td>NaN</td>\n",
       "    </tr>\n",
       "    <tr>\n",
       "      <th>4</th>\n",
       "      <td>WG</td>\n",
       "      <td>WG1</td>\n",
       "      <td>Alliance</td>\n",
       "      <td>Rogue</td>\n",
       "      <td>2</td>\n",
       "      <td>3</td>\n",
       "      <td>23</td>\n",
       "      <td>65483</td>\n",
       "      <td>19629</td>\n",
       "      <td>268</td>\n",
       "      <td>NaN</td>\n",
       "      <td>1.0</td>\n",
       "      <td>dps</td>\n",
       "      <td>NaN</td>\n",
       "    </tr>\n",
       "    <tr>\n",
       "      <th>5</th>\n",
       "      <td>WG</td>\n",
       "      <td>WG1</td>\n",
       "      <td>Horde</td>\n",
       "      <td>Druid</td>\n",
       "      <td>4</td>\n",
       "      <td>5</td>\n",
       "      <td>12</td>\n",
       "      <td>31759</td>\n",
       "      <td>6071</td>\n",
       "      <td>531</td>\n",
       "      <td>1.0</td>\n",
       "      <td>NaN</td>\n",
       "      <td>dps</td>\n",
       "      <td>NaN</td>\n",
       "    </tr>\n",
       "    <tr>\n",
       "      <th>6</th>\n",
       "      <td>WG</td>\n",
       "      <td>WG1</td>\n",
       "      <td>Horde</td>\n",
       "      <td>Shaman</td>\n",
       "      <td>0</td>\n",
       "      <td>4</td>\n",
       "      <td>18</td>\n",
       "      <td>12933</td>\n",
       "      <td>94587</td>\n",
       "      <td>541</td>\n",
       "      <td>1.0</td>\n",
       "      <td>NaN</td>\n",
       "      <td>heal</td>\n",
       "      <td>NaN</td>\n",
       "    </tr>\n",
       "    <tr>\n",
       "      <th>7</th>\n",
       "      <td>WG</td>\n",
       "      <td>WG1</td>\n",
       "      <td>Alliance</td>\n",
       "      <td>Priest</td>\n",
       "      <td>9</td>\n",
       "      <td>5</td>\n",
       "      <td>24</td>\n",
       "      <td>123000</td>\n",
       "      <td>34687</td>\n",
       "      <td>269</td>\n",
       "      <td>NaN</td>\n",
       "      <td>1.0</td>\n",
       "      <td>dps</td>\n",
       "      <td>NaN</td>\n",
       "    </tr>\n",
       "    <tr>\n",
       "      <th>8</th>\n",
       "      <td>WG</td>\n",
       "      <td>WG1</td>\n",
       "      <td>Horde</td>\n",
       "      <td>Druid</td>\n",
       "      <td>2</td>\n",
       "      <td>1</td>\n",
       "      <td>9</td>\n",
       "      <td>13900</td>\n",
       "      <td>2438</td>\n",
       "      <td>523</td>\n",
       "      <td>1.0</td>\n",
       "      <td>NaN</td>\n",
       "      <td>dps</td>\n",
       "      <td>NaN</td>\n",
       "    </tr>\n",
       "  </tbody>\n",
       "</table>\n",
       "</div>"
      ],
      "text/plain": [
       "  Battleground Code   Faction         Class  KB  D  HK      DD     HD  Honor  \\\n",
       "0           WG  WG1     Horde        Hunter   1  3  14   48155   6641    532   \n",
       "1           WG  WG1     Horde  Death Knight   1  3  12   27025   7106    377   \n",
       "2           WG  WG1  Alliance       Paladin   0  1  19     824  93879    252   \n",
       "3           WG  WG1  Alliance       Paladin   1  2  25    7046  98599    274   \n",
       "4           WG  WG1  Alliance         Rogue   2  3  23   65483  19629    268   \n",
       "5           WG  WG1     Horde         Druid   4  5  12   31759   6071    531   \n",
       "6           WG  WG1     Horde        Shaman   0  4  18   12933  94587    541   \n",
       "7           WG  WG1  Alliance        Priest   9  5  24  123000  34687    269   \n",
       "8           WG  WG1     Horde         Druid   2  1   9   13900   2438    523   \n",
       "\n",
       "   Win  Lose   Rol  BE  \n",
       "0  1.0   NaN   dps NaN  \n",
       "1  1.0   NaN   dps NaN  \n",
       "2  NaN   1.0  heal NaN  \n",
       "3  NaN   1.0  heal NaN  \n",
       "4  NaN   1.0   dps NaN  \n",
       "5  1.0   NaN   dps NaN  \n",
       "6  1.0   NaN  heal NaN  \n",
       "7  NaN   1.0   dps NaN  \n",
       "8  1.0   NaN   dps NaN  "
      ]
     },
     "execution_count": 54,
     "metadata": {},
     "output_type": "execute_result"
    }
   ],
   "source": [
    "df.head(9)"
   ]
  },
  {
   "cell_type": "markdown",
   "metadata": {},
   "source": [
    "## Data Analysis"
   ]
  },
  {
   "cell_type": "markdown",
   "metadata": {},
   "source": [
    "### Data Cleaning \n",
    "\n",
    "Since this is all from one author, and the data was taken directly from the score screen that appears right after a battleground is completed, not much data cleaning was required at all. \n",
    "\n",
    "- We analyzed columns that were important to what we are trying to explore and put those into it's own dataframe.\n",
    "- Replaced `NaN` values with actual number values, since `NaN` in this case represents false, so we changed all of those values into `0`'s. \n",
    "- Renamed certain columns for clarity, as such `dps` to `Damage Dealer` and `heal` to `Healer`. \n",
    "- Replaced the `0`'s and `1`'s to `Not Happened` or `Happened` in the _Bonus Event_ column for clarity and easier analysis."
   ]
  },
  {
   "cell_type": "code",
   "execution_count": 55,
   "metadata": {},
   "outputs": [],
   "source": [
    "df = df.drop(['Battleground', 'Code', 'KB', 'HK', 'DD', 'Lose'], axis=1)"
   ]
  },
  {
   "cell_type": "code",
   "execution_count": 56,
   "metadata": {},
   "outputs": [
    {
     "data": {
      "text/html": [
       "<div>\n",
       "<style scoped>\n",
       "    .dataframe tbody tr th:only-of-type {\n",
       "        vertical-align: middle;\n",
       "    }\n",
       "\n",
       "    .dataframe tbody tr th {\n",
       "        vertical-align: top;\n",
       "    }\n",
       "\n",
       "    .dataframe thead th {\n",
       "        text-align: right;\n",
       "    }\n",
       "</style>\n",
       "<table border=\"1\" class=\"dataframe\">\n",
       "  <thead>\n",
       "    <tr style=\"text-align: right;\">\n",
       "      <th></th>\n",
       "      <th>Faction</th>\n",
       "      <th>Class</th>\n",
       "      <th>D</th>\n",
       "      <th>HD</th>\n",
       "      <th>Honor</th>\n",
       "      <th>Win</th>\n",
       "      <th>Rol</th>\n",
       "      <th>BE</th>\n",
       "    </tr>\n",
       "  </thead>\n",
       "  <tbody>\n",
       "    <tr>\n",
       "      <th>0</th>\n",
       "      <td>Horde</td>\n",
       "      <td>Hunter</td>\n",
       "      <td>3</td>\n",
       "      <td>6641</td>\n",
       "      <td>532</td>\n",
       "      <td>1.0</td>\n",
       "      <td>dps</td>\n",
       "      <td>NaN</td>\n",
       "    </tr>\n",
       "    <tr>\n",
       "      <th>1</th>\n",
       "      <td>Horde</td>\n",
       "      <td>Death Knight</td>\n",
       "      <td>3</td>\n",
       "      <td>7106</td>\n",
       "      <td>377</td>\n",
       "      <td>1.0</td>\n",
       "      <td>dps</td>\n",
       "      <td>NaN</td>\n",
       "    </tr>\n",
       "    <tr>\n",
       "      <th>2</th>\n",
       "      <td>Alliance</td>\n",
       "      <td>Paladin</td>\n",
       "      <td>1</td>\n",
       "      <td>93879</td>\n",
       "      <td>252</td>\n",
       "      <td>NaN</td>\n",
       "      <td>heal</td>\n",
       "      <td>NaN</td>\n",
       "    </tr>\n",
       "    <tr>\n",
       "      <th>3</th>\n",
       "      <td>Alliance</td>\n",
       "      <td>Paladin</td>\n",
       "      <td>2</td>\n",
       "      <td>98599</td>\n",
       "      <td>274</td>\n",
       "      <td>NaN</td>\n",
       "      <td>heal</td>\n",
       "      <td>NaN</td>\n",
       "    </tr>\n",
       "    <tr>\n",
       "      <th>4</th>\n",
       "      <td>Alliance</td>\n",
       "      <td>Rogue</td>\n",
       "      <td>3</td>\n",
       "      <td>19629</td>\n",
       "      <td>268</td>\n",
       "      <td>NaN</td>\n",
       "      <td>dps</td>\n",
       "      <td>NaN</td>\n",
       "    </tr>\n",
       "    <tr>\n",
       "      <th>...</th>\n",
       "      <td>...</td>\n",
       "      <td>...</td>\n",
       "      <td>...</td>\n",
       "      <td>...</td>\n",
       "      <td>...</td>\n",
       "      <td>...</td>\n",
       "      <td>...</td>\n",
       "      <td>...</td>\n",
       "    </tr>\n",
       "    <tr>\n",
       "      <th>3721</th>\n",
       "      <td>Alliance</td>\n",
       "      <td>Druid</td>\n",
       "      <td>1</td>\n",
       "      <td>49511</td>\n",
       "      <td>615</td>\n",
       "      <td>1.0</td>\n",
       "      <td>dps</td>\n",
       "      <td>NaN</td>\n",
       "    </tr>\n",
       "    <tr>\n",
       "      <th>3722</th>\n",
       "      <td>Alliance</td>\n",
       "      <td>Monk</td>\n",
       "      <td>4</td>\n",
       "      <td>9057</td>\n",
       "      <td>555</td>\n",
       "      <td>1.0</td>\n",
       "      <td>dps</td>\n",
       "      <td>NaN</td>\n",
       "    </tr>\n",
       "    <tr>\n",
       "      <th>3723</th>\n",
       "      <td>Horde</td>\n",
       "      <td>Hunter</td>\n",
       "      <td>5</td>\n",
       "      <td>6837</td>\n",
       "      <td>193</td>\n",
       "      <td>NaN</td>\n",
       "      <td>dps</td>\n",
       "      <td>NaN</td>\n",
       "    </tr>\n",
       "    <tr>\n",
       "      <th>3724</th>\n",
       "      <td>Alliance</td>\n",
       "      <td>Death Knight</td>\n",
       "      <td>5</td>\n",
       "      <td>40934</td>\n",
       "      <td>581</td>\n",
       "      <td>1.0</td>\n",
       "      <td>dps</td>\n",
       "      <td>NaN</td>\n",
       "    </tr>\n",
       "    <tr>\n",
       "      <th>3725</th>\n",
       "      <td>Alliance</td>\n",
       "      <td>Monk</td>\n",
       "      <td>5</td>\n",
       "      <td>106000</td>\n",
       "      <td>808</td>\n",
       "      <td>1.0</td>\n",
       "      <td>heal</td>\n",
       "      <td>NaN</td>\n",
       "    </tr>\n",
       "  </tbody>\n",
       "</table>\n",
       "<p>3726 rows × 8 columns</p>\n",
       "</div>"
      ],
      "text/plain": [
       "       Faction         Class  D      HD  Honor  Win   Rol  BE\n",
       "0        Horde        Hunter  3    6641    532  1.0   dps NaN\n",
       "1        Horde  Death Knight  3    7106    377  1.0   dps NaN\n",
       "2     Alliance       Paladin  1   93879    252  NaN  heal NaN\n",
       "3     Alliance       Paladin  2   98599    274  NaN  heal NaN\n",
       "4     Alliance         Rogue  3   19629    268  NaN   dps NaN\n",
       "...        ...           ... ..     ...    ...  ...   ...  ..\n",
       "3721  Alliance         Druid  1   49511    615  1.0   dps NaN\n",
       "3722  Alliance          Monk  4    9057    555  1.0   dps NaN\n",
       "3723     Horde        Hunter  5    6837    193  NaN   dps NaN\n",
       "3724  Alliance  Death Knight  5   40934    581  1.0   dps NaN\n",
       "3725  Alliance          Monk  5  106000    808  1.0  heal NaN\n",
       "\n",
       "[3726 rows x 8 columns]"
      ]
     },
     "execution_count": 56,
     "metadata": {},
     "output_type": "execute_result"
    }
   ],
   "source": [
    "df"
   ]
  },
  {
   "cell_type": "code",
   "execution_count": 57,
   "metadata": {},
   "outputs": [],
   "source": [
    "# NaN in columns 'Win', 'Lose', and 'BE' are set to 0\n",
    "df.fillna(0, inplace=True)"
   ]
  },
  {
   "cell_type": "code",
   "execution_count": 58,
   "metadata": {},
   "outputs": [
    {
     "data": {
      "text/html": [
       "<div>\n",
       "<style scoped>\n",
       "    .dataframe tbody tr th:only-of-type {\n",
       "        vertical-align: middle;\n",
       "    }\n",
       "\n",
       "    .dataframe tbody tr th {\n",
       "        vertical-align: top;\n",
       "    }\n",
       "\n",
       "    .dataframe thead th {\n",
       "        text-align: right;\n",
       "    }\n",
       "</style>\n",
       "<table border=\"1\" class=\"dataframe\">\n",
       "  <thead>\n",
       "    <tr style=\"text-align: right;\">\n",
       "      <th></th>\n",
       "      <th>Faction</th>\n",
       "      <th>Class</th>\n",
       "      <th>D</th>\n",
       "      <th>HD</th>\n",
       "      <th>Honor</th>\n",
       "      <th>Win</th>\n",
       "      <th>Rol</th>\n",
       "      <th>BE</th>\n",
       "    </tr>\n",
       "  </thead>\n",
       "  <tbody>\n",
       "    <tr>\n",
       "      <th>0</th>\n",
       "      <td>Horde</td>\n",
       "      <td>Hunter</td>\n",
       "      <td>3</td>\n",
       "      <td>6641</td>\n",
       "      <td>532</td>\n",
       "      <td>1.0</td>\n",
       "      <td>dps</td>\n",
       "      <td>0.0</td>\n",
       "    </tr>\n",
       "    <tr>\n",
       "      <th>1</th>\n",
       "      <td>Horde</td>\n",
       "      <td>Death Knight</td>\n",
       "      <td>3</td>\n",
       "      <td>7106</td>\n",
       "      <td>377</td>\n",
       "      <td>1.0</td>\n",
       "      <td>dps</td>\n",
       "      <td>0.0</td>\n",
       "    </tr>\n",
       "    <tr>\n",
       "      <th>2</th>\n",
       "      <td>Alliance</td>\n",
       "      <td>Paladin</td>\n",
       "      <td>1</td>\n",
       "      <td>93879</td>\n",
       "      <td>252</td>\n",
       "      <td>0.0</td>\n",
       "      <td>heal</td>\n",
       "      <td>0.0</td>\n",
       "    </tr>\n",
       "    <tr>\n",
       "      <th>3</th>\n",
       "      <td>Alliance</td>\n",
       "      <td>Paladin</td>\n",
       "      <td>2</td>\n",
       "      <td>98599</td>\n",
       "      <td>274</td>\n",
       "      <td>0.0</td>\n",
       "      <td>heal</td>\n",
       "      <td>0.0</td>\n",
       "    </tr>\n",
       "    <tr>\n",
       "      <th>4</th>\n",
       "      <td>Alliance</td>\n",
       "      <td>Rogue</td>\n",
       "      <td>3</td>\n",
       "      <td>19629</td>\n",
       "      <td>268</td>\n",
       "      <td>0.0</td>\n",
       "      <td>dps</td>\n",
       "      <td>0.0</td>\n",
       "    </tr>\n",
       "    <tr>\n",
       "      <th>...</th>\n",
       "      <td>...</td>\n",
       "      <td>...</td>\n",
       "      <td>...</td>\n",
       "      <td>...</td>\n",
       "      <td>...</td>\n",
       "      <td>...</td>\n",
       "      <td>...</td>\n",
       "      <td>...</td>\n",
       "    </tr>\n",
       "    <tr>\n",
       "      <th>3721</th>\n",
       "      <td>Alliance</td>\n",
       "      <td>Druid</td>\n",
       "      <td>1</td>\n",
       "      <td>49511</td>\n",
       "      <td>615</td>\n",
       "      <td>1.0</td>\n",
       "      <td>dps</td>\n",
       "      <td>0.0</td>\n",
       "    </tr>\n",
       "    <tr>\n",
       "      <th>3722</th>\n",
       "      <td>Alliance</td>\n",
       "      <td>Monk</td>\n",
       "      <td>4</td>\n",
       "      <td>9057</td>\n",
       "      <td>555</td>\n",
       "      <td>1.0</td>\n",
       "      <td>dps</td>\n",
       "      <td>0.0</td>\n",
       "    </tr>\n",
       "    <tr>\n",
       "      <th>3723</th>\n",
       "      <td>Horde</td>\n",
       "      <td>Hunter</td>\n",
       "      <td>5</td>\n",
       "      <td>6837</td>\n",
       "      <td>193</td>\n",
       "      <td>0.0</td>\n",
       "      <td>dps</td>\n",
       "      <td>0.0</td>\n",
       "    </tr>\n",
       "    <tr>\n",
       "      <th>3724</th>\n",
       "      <td>Alliance</td>\n",
       "      <td>Death Knight</td>\n",
       "      <td>5</td>\n",
       "      <td>40934</td>\n",
       "      <td>581</td>\n",
       "      <td>1.0</td>\n",
       "      <td>dps</td>\n",
       "      <td>0.0</td>\n",
       "    </tr>\n",
       "    <tr>\n",
       "      <th>3725</th>\n",
       "      <td>Alliance</td>\n",
       "      <td>Monk</td>\n",
       "      <td>5</td>\n",
       "      <td>106000</td>\n",
       "      <td>808</td>\n",
       "      <td>1.0</td>\n",
       "      <td>heal</td>\n",
       "      <td>0.0</td>\n",
       "    </tr>\n",
       "  </tbody>\n",
       "</table>\n",
       "<p>3726 rows × 8 columns</p>\n",
       "</div>"
      ],
      "text/plain": [
       "       Faction         Class  D      HD  Honor  Win   Rol   BE\n",
       "0        Horde        Hunter  3    6641    532  1.0   dps  0.0\n",
       "1        Horde  Death Knight  3    7106    377  1.0   dps  0.0\n",
       "2     Alliance       Paladin  1   93879    252  0.0  heal  0.0\n",
       "3     Alliance       Paladin  2   98599    274  0.0  heal  0.0\n",
       "4     Alliance         Rogue  3   19629    268  0.0   dps  0.0\n",
       "...        ...           ... ..     ...    ...  ...   ...  ...\n",
       "3721  Alliance         Druid  1   49511    615  1.0   dps  0.0\n",
       "3722  Alliance          Monk  4    9057    555  1.0   dps  0.0\n",
       "3723     Horde        Hunter  5    6837    193  0.0   dps  0.0\n",
       "3724  Alliance  Death Knight  5   40934    581  1.0   dps  0.0\n",
       "3725  Alliance          Monk  5  106000    808  1.0  heal  0.0\n",
       "\n",
       "[3726 rows x 8 columns]"
      ]
     },
     "execution_count": 58,
     "metadata": {},
     "output_type": "execute_result"
    }
   ],
   "source": [
    "df"
   ]
  },
  {
   "cell_type": "code",
   "execution_count": 59,
   "metadata": {},
   "outputs": [],
   "source": [
    "# Renaming the columns so they make more sense to people who never played World of Warcraft before\n",
    "df = df.rename(index=str, columns={'Faction': 'Team', 'D': 'Death', 'HD': 'Healing Done', 'Rol': 'Healer/Damage Dealer', 'BE': 'Bonus Event'})"
   ]
  },
  {
   "cell_type": "code",
   "execution_count": 60,
   "metadata": {},
   "outputs": [],
   "source": [
    "# Reorder the columns so that it's easier for us to see if the healing type role or dps type role affects the win rate a lot\n",
    "df = df[['Team', 'Class', 'Healer/Damage Dealer', 'Death', 'Healing Done', 'Bonus Event', 'Win', 'Honor']]"
   ]
  },
  {
   "cell_type": "code",
   "execution_count": 61,
   "metadata": {},
   "outputs": [
    {
     "data": {
      "text/html": [
       "<div>\n",
       "<style scoped>\n",
       "    .dataframe tbody tr th:only-of-type {\n",
       "        vertical-align: middle;\n",
       "    }\n",
       "\n",
       "    .dataframe tbody tr th {\n",
       "        vertical-align: top;\n",
       "    }\n",
       "\n",
       "    .dataframe thead th {\n",
       "        text-align: right;\n",
       "    }\n",
       "</style>\n",
       "<table border=\"1\" class=\"dataframe\">\n",
       "  <thead>\n",
       "    <tr style=\"text-align: right;\">\n",
       "      <th></th>\n",
       "      <th>Team</th>\n",
       "      <th>Class</th>\n",
       "      <th>Healer/Damage Dealer</th>\n",
       "      <th>Death</th>\n",
       "      <th>Healing Done</th>\n",
       "      <th>Bonus Event</th>\n",
       "      <th>Win</th>\n",
       "      <th>Honor</th>\n",
       "    </tr>\n",
       "  </thead>\n",
       "  <tbody>\n",
       "    <tr>\n",
       "      <th>0</th>\n",
       "      <td>Horde</td>\n",
       "      <td>Hunter</td>\n",
       "      <td>dps</td>\n",
       "      <td>3</td>\n",
       "      <td>6641</td>\n",
       "      <td>0.0</td>\n",
       "      <td>1.0</td>\n",
       "      <td>532</td>\n",
       "    </tr>\n",
       "    <tr>\n",
       "      <th>1</th>\n",
       "      <td>Horde</td>\n",
       "      <td>Death Knight</td>\n",
       "      <td>dps</td>\n",
       "      <td>3</td>\n",
       "      <td>7106</td>\n",
       "      <td>0.0</td>\n",
       "      <td>1.0</td>\n",
       "      <td>377</td>\n",
       "    </tr>\n",
       "    <tr>\n",
       "      <th>2</th>\n",
       "      <td>Alliance</td>\n",
       "      <td>Paladin</td>\n",
       "      <td>heal</td>\n",
       "      <td>1</td>\n",
       "      <td>93879</td>\n",
       "      <td>0.0</td>\n",
       "      <td>0.0</td>\n",
       "      <td>252</td>\n",
       "    </tr>\n",
       "    <tr>\n",
       "      <th>3</th>\n",
       "      <td>Alliance</td>\n",
       "      <td>Paladin</td>\n",
       "      <td>heal</td>\n",
       "      <td>2</td>\n",
       "      <td>98599</td>\n",
       "      <td>0.0</td>\n",
       "      <td>0.0</td>\n",
       "      <td>274</td>\n",
       "    </tr>\n",
       "    <tr>\n",
       "      <th>4</th>\n",
       "      <td>Alliance</td>\n",
       "      <td>Rogue</td>\n",
       "      <td>dps</td>\n",
       "      <td>3</td>\n",
       "      <td>19629</td>\n",
       "      <td>0.0</td>\n",
       "      <td>0.0</td>\n",
       "      <td>268</td>\n",
       "    </tr>\n",
       "    <tr>\n",
       "      <th>...</th>\n",
       "      <td>...</td>\n",
       "      <td>...</td>\n",
       "      <td>...</td>\n",
       "      <td>...</td>\n",
       "      <td>...</td>\n",
       "      <td>...</td>\n",
       "      <td>...</td>\n",
       "      <td>...</td>\n",
       "    </tr>\n",
       "    <tr>\n",
       "      <th>3721</th>\n",
       "      <td>Alliance</td>\n",
       "      <td>Druid</td>\n",
       "      <td>dps</td>\n",
       "      <td>1</td>\n",
       "      <td>49511</td>\n",
       "      <td>0.0</td>\n",
       "      <td>1.0</td>\n",
       "      <td>615</td>\n",
       "    </tr>\n",
       "    <tr>\n",
       "      <th>3722</th>\n",
       "      <td>Alliance</td>\n",
       "      <td>Monk</td>\n",
       "      <td>dps</td>\n",
       "      <td>4</td>\n",
       "      <td>9057</td>\n",
       "      <td>0.0</td>\n",
       "      <td>1.0</td>\n",
       "      <td>555</td>\n",
       "    </tr>\n",
       "    <tr>\n",
       "      <th>3723</th>\n",
       "      <td>Horde</td>\n",
       "      <td>Hunter</td>\n",
       "      <td>dps</td>\n",
       "      <td>5</td>\n",
       "      <td>6837</td>\n",
       "      <td>0.0</td>\n",
       "      <td>0.0</td>\n",
       "      <td>193</td>\n",
       "    </tr>\n",
       "    <tr>\n",
       "      <th>3724</th>\n",
       "      <td>Alliance</td>\n",
       "      <td>Death Knight</td>\n",
       "      <td>dps</td>\n",
       "      <td>5</td>\n",
       "      <td>40934</td>\n",
       "      <td>0.0</td>\n",
       "      <td>1.0</td>\n",
       "      <td>581</td>\n",
       "    </tr>\n",
       "    <tr>\n",
       "      <th>3725</th>\n",
       "      <td>Alliance</td>\n",
       "      <td>Monk</td>\n",
       "      <td>heal</td>\n",
       "      <td>5</td>\n",
       "      <td>106000</td>\n",
       "      <td>0.0</td>\n",
       "      <td>1.0</td>\n",
       "      <td>808</td>\n",
       "    </tr>\n",
       "  </tbody>\n",
       "</table>\n",
       "<p>3726 rows × 8 columns</p>\n",
       "</div>"
      ],
      "text/plain": [
       "          Team         Class Healer/Damage Dealer  Death  Healing Done  \\\n",
       "0        Horde        Hunter                  dps      3          6641   \n",
       "1        Horde  Death Knight                  dps      3          7106   \n",
       "2     Alliance       Paladin                 heal      1         93879   \n",
       "3     Alliance       Paladin                 heal      2         98599   \n",
       "4     Alliance         Rogue                  dps      3         19629   \n",
       "...        ...           ...                  ...    ...           ...   \n",
       "3721  Alliance         Druid                  dps      1         49511   \n",
       "3722  Alliance          Monk                  dps      4          9057   \n",
       "3723     Horde        Hunter                  dps      5          6837   \n",
       "3724  Alliance  Death Knight                  dps      5         40934   \n",
       "3725  Alliance          Monk                 heal      5        106000   \n",
       "\n",
       "      Bonus Event  Win  Honor  \n",
       "0             0.0  1.0    532  \n",
       "1             0.0  1.0    377  \n",
       "2             0.0  0.0    252  \n",
       "3             0.0  0.0    274  \n",
       "4             0.0  0.0    268  \n",
       "...           ...  ...    ...  \n",
       "3721          0.0  1.0    615  \n",
       "3722          0.0  1.0    555  \n",
       "3723          0.0  0.0    193  \n",
       "3724          0.0  1.0    581  \n",
       "3725          0.0  1.0    808  \n",
       "\n",
       "[3726 rows x 8 columns]"
      ]
     },
     "execution_count": 61,
     "metadata": {},
     "output_type": "execute_result"
    }
   ],
   "source": [
    "df"
   ]
  },
  {
   "cell_type": "markdown",
   "metadata": {},
   "source": [
    "#### Standardize the 'Healer/Damage Dealer' columns because people who never played this game before might not know what dps mean"
   ]
  },
  {
   "cell_type": "code",
   "execution_count": 62,
   "metadata": {},
   "outputs": [],
   "source": [
    "def standardize_role(string):\n",
    "    \n",
    "    if \"dps\" in string:\n",
    "        output = \"Damage Dealer\"\n",
    "    elif \"heal\" in string:\n",
    "        output = \"Healer\"\n",
    "    \n",
    "    return output"
   ]
  },
  {
   "cell_type": "markdown",
   "metadata": {},
   "source": [
    "#### Standardize the 'Bonus Event' column so it's easier to analyze"
   ]
  },
  {
   "cell_type": "code",
   "execution_count": 63,
   "metadata": {},
   "outputs": [],
   "source": [
    "def standardize_bonus_event(event):\n",
    "    \n",
    "    if event == 0.0:\n",
    "        result = \"Not happened\"\n",
    "    elif event == 1.0:\n",
    "        result = \"Happened\"\n",
    "    return result"
   ]
  },
  {
   "cell_type": "code",
   "execution_count": 64,
   "metadata": {},
   "outputs": [],
   "source": [
    "# Apply the method to the 'Healer/Damage Dealer' column\n",
    "df[\"Healer/Damage Dealer\"] = df[\"Healer/Damage Dealer\"].apply(standardize_role)\n",
    "df[\"Bonus Event\"] = df[\"Bonus Event\"].apply(standardize_bonus_event)"
   ]
  },
  {
   "cell_type": "code",
   "execution_count": 65,
   "metadata": {},
   "outputs": [
    {
     "data": {
      "text/html": [
       "<div>\n",
       "<style scoped>\n",
       "    .dataframe tbody tr th:only-of-type {\n",
       "        vertical-align: middle;\n",
       "    }\n",
       "\n",
       "    .dataframe tbody tr th {\n",
       "        vertical-align: top;\n",
       "    }\n",
       "\n",
       "    .dataframe thead th {\n",
       "        text-align: right;\n",
       "    }\n",
       "</style>\n",
       "<table border=\"1\" class=\"dataframe\">\n",
       "  <thead>\n",
       "    <tr style=\"text-align: right;\">\n",
       "      <th></th>\n",
       "      <th>Team</th>\n",
       "      <th>Class</th>\n",
       "      <th>Healer/Damage Dealer</th>\n",
       "      <th>Death</th>\n",
       "      <th>Healing Done</th>\n",
       "      <th>Bonus Event</th>\n",
       "      <th>Win</th>\n",
       "      <th>Honor</th>\n",
       "    </tr>\n",
       "  </thead>\n",
       "  <tbody>\n",
       "    <tr>\n",
       "      <th>0</th>\n",
       "      <td>Horde</td>\n",
       "      <td>Hunter</td>\n",
       "      <td>Damage Dealer</td>\n",
       "      <td>3</td>\n",
       "      <td>6641</td>\n",
       "      <td>Not happened</td>\n",
       "      <td>1.0</td>\n",
       "      <td>532</td>\n",
       "    </tr>\n",
       "    <tr>\n",
       "      <th>1</th>\n",
       "      <td>Horde</td>\n",
       "      <td>Death Knight</td>\n",
       "      <td>Damage Dealer</td>\n",
       "      <td>3</td>\n",
       "      <td>7106</td>\n",
       "      <td>Not happened</td>\n",
       "      <td>1.0</td>\n",
       "      <td>377</td>\n",
       "    </tr>\n",
       "    <tr>\n",
       "      <th>2</th>\n",
       "      <td>Alliance</td>\n",
       "      <td>Paladin</td>\n",
       "      <td>Healer</td>\n",
       "      <td>1</td>\n",
       "      <td>93879</td>\n",
       "      <td>Not happened</td>\n",
       "      <td>0.0</td>\n",
       "      <td>252</td>\n",
       "    </tr>\n",
       "    <tr>\n",
       "      <th>3</th>\n",
       "      <td>Alliance</td>\n",
       "      <td>Paladin</td>\n",
       "      <td>Healer</td>\n",
       "      <td>2</td>\n",
       "      <td>98599</td>\n",
       "      <td>Not happened</td>\n",
       "      <td>0.0</td>\n",
       "      <td>274</td>\n",
       "    </tr>\n",
       "    <tr>\n",
       "      <th>4</th>\n",
       "      <td>Alliance</td>\n",
       "      <td>Rogue</td>\n",
       "      <td>Damage Dealer</td>\n",
       "      <td>3</td>\n",
       "      <td>19629</td>\n",
       "      <td>Not happened</td>\n",
       "      <td>0.0</td>\n",
       "      <td>268</td>\n",
       "    </tr>\n",
       "    <tr>\n",
       "      <th>...</th>\n",
       "      <td>...</td>\n",
       "      <td>...</td>\n",
       "      <td>...</td>\n",
       "      <td>...</td>\n",
       "      <td>...</td>\n",
       "      <td>...</td>\n",
       "      <td>...</td>\n",
       "      <td>...</td>\n",
       "    </tr>\n",
       "    <tr>\n",
       "      <th>3721</th>\n",
       "      <td>Alliance</td>\n",
       "      <td>Druid</td>\n",
       "      <td>Damage Dealer</td>\n",
       "      <td>1</td>\n",
       "      <td>49511</td>\n",
       "      <td>Not happened</td>\n",
       "      <td>1.0</td>\n",
       "      <td>615</td>\n",
       "    </tr>\n",
       "    <tr>\n",
       "      <th>3722</th>\n",
       "      <td>Alliance</td>\n",
       "      <td>Monk</td>\n",
       "      <td>Damage Dealer</td>\n",
       "      <td>4</td>\n",
       "      <td>9057</td>\n",
       "      <td>Not happened</td>\n",
       "      <td>1.0</td>\n",
       "      <td>555</td>\n",
       "    </tr>\n",
       "    <tr>\n",
       "      <th>3723</th>\n",
       "      <td>Horde</td>\n",
       "      <td>Hunter</td>\n",
       "      <td>Damage Dealer</td>\n",
       "      <td>5</td>\n",
       "      <td>6837</td>\n",
       "      <td>Not happened</td>\n",
       "      <td>0.0</td>\n",
       "      <td>193</td>\n",
       "    </tr>\n",
       "    <tr>\n",
       "      <th>3724</th>\n",
       "      <td>Alliance</td>\n",
       "      <td>Death Knight</td>\n",
       "      <td>Damage Dealer</td>\n",
       "      <td>5</td>\n",
       "      <td>40934</td>\n",
       "      <td>Not happened</td>\n",
       "      <td>1.0</td>\n",
       "      <td>581</td>\n",
       "    </tr>\n",
       "    <tr>\n",
       "      <th>3725</th>\n",
       "      <td>Alliance</td>\n",
       "      <td>Monk</td>\n",
       "      <td>Healer</td>\n",
       "      <td>5</td>\n",
       "      <td>106000</td>\n",
       "      <td>Not happened</td>\n",
       "      <td>1.0</td>\n",
       "      <td>808</td>\n",
       "    </tr>\n",
       "  </tbody>\n",
       "</table>\n",
       "<p>3726 rows × 8 columns</p>\n",
       "</div>"
      ],
      "text/plain": [
       "          Team         Class Healer/Damage Dealer  Death  Healing Done  \\\n",
       "0        Horde        Hunter        Damage Dealer      3          6641   \n",
       "1        Horde  Death Knight        Damage Dealer      3          7106   \n",
       "2     Alliance       Paladin               Healer      1         93879   \n",
       "3     Alliance       Paladin               Healer      2         98599   \n",
       "4     Alliance         Rogue        Damage Dealer      3         19629   \n",
       "...        ...           ...                  ...    ...           ...   \n",
       "3721  Alliance         Druid        Damage Dealer      1         49511   \n",
       "3722  Alliance          Monk        Damage Dealer      4          9057   \n",
       "3723     Horde        Hunter        Damage Dealer      5          6837   \n",
       "3724  Alliance  Death Knight        Damage Dealer      5         40934   \n",
       "3725  Alliance          Monk               Healer      5        106000   \n",
       "\n",
       "       Bonus Event  Win  Honor  \n",
       "0     Not happened  1.0    532  \n",
       "1     Not happened  1.0    377  \n",
       "2     Not happened  0.0    252  \n",
       "3     Not happened  0.0    274  \n",
       "4     Not happened  0.0    268  \n",
       "...            ...  ...    ...  \n",
       "3721  Not happened  1.0    615  \n",
       "3722  Not happened  1.0    555  \n",
       "3723  Not happened  0.0    193  \n",
       "3724  Not happened  1.0    581  \n",
       "3725  Not happened  1.0    808  \n",
       "\n",
       "[3726 rows x 8 columns]"
      ]
     },
     "execution_count": 65,
     "metadata": {},
     "output_type": "execute_result"
    }
   ],
   "source": [
    "df"
   ]
  },
  {
   "cell_type": "markdown",
   "metadata": {},
   "source": [
    "### Data Visualization"
   ]
  },
  {
   "cell_type": "code",
   "execution_count": 66,
   "metadata": {},
   "outputs": [
    {
     "data": {
      "image/png": "[encoded data removed]",
      "text/plain": [
       "<Figure size 432x288 with 16 Axes>"
      ]
     },
     "metadata": {
      "needs_background": "light"
     },
     "output_type": "display_data"
    }
   ],
   "source": [
    "fig = pd.plotting.scatter_matrix(df)"
   ]
  },
  {
   "cell_type": "code",
   "execution_count": 67,
   "metadata": {},
   "outputs": [
    {
     "data": {
      "text/plain": [
       "[Text(0, 0.5, 'Number of Clases'), Text(0.5, 0, 'Type of Class')]"
      ]
     },
     "execution_count": 67,
     "metadata": {},
     "output_type": "execute_result"
    },
    {
     "data": {
      "image/png": "[encoded data removed]",
      "text/plain": [
       "<Figure size 432x288 with 1 Axes>"
      ]
     },
     "metadata": {
      "needs_background": "light"
     },
     "output_type": "display_data"
    }
   ],
   "source": [
    "classPlot = df['Class'].value_counts().plot.bar()\n",
    "classPlot.set(xlabel=\"Type of Class\", ylabel=\"Number of Clases\")"
   ]
  },
  {
   "cell_type": "code",
   "execution_count": 68,
   "metadata": {},
   "outputs": [
    {
     "data": {
      "image/png": "[encoded data removed]",
      "text/plain": [
       "<Figure size 1296x792 with 1 Axes>"
      ]
     },
     "metadata": {
      "needs_background": "light"
     },
     "output_type": "display_data"
    }
   ],
   "source": [
    "# Use a barchart to demonstrate the Healing Done of different classes\n",
    "df['Healing Done'] = df['Healing Done'].astype('int64')\n",
    "f,ax = plt.subplots(figsize=(18,11))\n",
    "sns.barplot(x='Healing Done',y='Class',data=df,lw =2.5);\n",
    "ax.set(ylabel='All the characters', xlabel= 'Healing done by each character',);\n",
    "plt.title('Healing Distribution',fontsize=(18));\n",
    "plt.show()"
   ]
  },
  {
   "cell_type": "code",
   "execution_count": 69,
   "metadata": {},
   "outputs": [
    {
     "data": {
      "image/png": "[encoded data removed]",
      "text/plain": [
       "<Figure size 432x288 with 1 Axes>"
      ]
     },
     "metadata": {
      "needs_background": "light"
     },
     "output_type": "display_data"
    }
   ],
   "source": [
    "df[df['Healer/Damage Dealer'] == 'Healer']['Class'].hist()\n",
    "f2 = plt.gcf()"
   ]
  },
  {
   "cell_type": "markdown",
   "metadata": {},
   "source": [
    "### Data Analysis & Results\n",
    "\n",
    "Include cells that describe the steps in your data analysis"
   ]
  },
  {
   "cell_type": "code",
   "execution_count": 70,
   "metadata": {},
   "outputs": [
    {
     "name": "stdout",
     "output_type": "stream",
     "text": [
      "          Team    Class Healer/Damage Dealer  Death  Healing Done  \\\n",
      "2     Alliance  Paladin               Healer      1         93879   \n",
      "3     Alliance  Paladin               Healer      2         98599   \n",
      "6        Horde   Shaman               Healer      4         94587   \n",
      "9     Alliance   Priest               Healer      1         36734   \n",
      "12       Horde  Paladin               Healer      1        193000   \n",
      "...        ...      ...                  ...    ...           ...   \n",
      "3698  Alliance   Priest               Healer      6        153000   \n",
      "3704  Alliance    Druid               Healer      2        180000   \n",
      "3713     Horde   Shaman               Healer      9        124000   \n",
      "3720  Alliance   Priest               Healer      2        169000   \n",
      "3725  Alliance     Monk               Healer      5        106000   \n",
      "\n",
      "       Bonus Event  Win  Honor  \n",
      "2     Not happened  0.0    252  \n",
      "3     Not happened  0.0    274  \n",
      "6     Not happened  1.0    541  \n",
      "9     Not happened  0.0    276  \n",
      "12    Not happened  1.0    389  \n",
      "...            ...  ...    ...  \n",
      "3698  Not happened  0.0    219  \n",
      "3704  Not happened  0.0    227  \n",
      "3713  Not happened  0.0    208  \n",
      "3720  Not happened  1.0    577  \n",
      "3725  Not happened  1.0    808  \n",
      "\n",
      "[726 rows x 8 columns]\n",
      "0.5261707988980716\n",
      "Win rate when playing a Healer: % 52.61707988980716\n",
      "          Team         Class Healer/Damage Dealer  Death  Healing Done  \\\n",
      "0        Horde        Hunter        Damage Dealer      3          6641   \n",
      "1        Horde  Death Knight        Damage Dealer      3          7106   \n",
      "4     Alliance         Rogue        Damage Dealer      3         19629   \n",
      "5        Horde         Druid        Damage Dealer      5          6071   \n",
      "7     Alliance        Priest        Damage Dealer      5         34687   \n",
      "...        ...           ...                  ...    ...           ...   \n",
      "3719     Horde  Death Knight        Damage Dealer      8         18483   \n",
      "3721  Alliance         Druid        Damage Dealer      1         49511   \n",
      "3722  Alliance          Monk        Damage Dealer      4          9057   \n",
      "3723     Horde        Hunter        Damage Dealer      5          6837   \n",
      "3724  Alliance  Death Knight        Damage Dealer      5         40934   \n",
      "\n",
      "       Bonus Event  Win  Honor  \n",
      "0     Not happened  1.0    532  \n",
      "1     Not happened  1.0    377  \n",
      "4     Not happened  0.0    268  \n",
      "5     Not happened  1.0    531  \n",
      "7     Not happened  0.0    269  \n",
      "...            ...  ...    ...  \n",
      "3719  Not happened  0.0    199  \n",
      "3721  Not happened  1.0    615  \n",
      "3722  Not happened  1.0    555  \n",
      "3723  Not happened  0.0    193  \n",
      "3724  Not happened  1.0    581  \n",
      "\n",
      "[3000 rows x 8 columns]\n",
      "0.5023333333333333\n",
      "Win rate when playing a Damage Dealer: % 50.23333333333333\n"
     ]
    }
   ],
   "source": [
    "# Calculate the win rate if one chooses to play a healer role\n",
    "healer_df = df.loc[df['Healer/Damage Dealer'] == 'Healer']\n",
    "healer_wins = (healer_df['Win'] == 1.0).sum()\n",
    "num_of_healer = len(healer_df)\n",
    "print(healer_df)\n",
    "print(healer_wins/num_of_healer)\n",
    "print('Win rate when playing a Healer: %',(healer_wins/num_of_healer)*100)\n",
    "\n",
    "# Calculate the win rate if one chooses to play a damage dealer role\n",
    "damage_dealer_df = df.loc[df['Healer/Damage Dealer'] == 'Damage Dealer']\n",
    "damage_dealer_wins = (damage_dealer_df['Win'] == 1.0).sum()\n",
    "num_of_damage_dealer = len(damage_dealer_df)\n",
    "print(damage_dealer_df)\n",
    "print(damage_dealer_wins/num_of_damage_dealer)\n",
    "print('Win rate when playing a Damage Dealer: %',(damage_dealer_wins/num_of_damage_dealer)*100)"
   ]
  },
  {
   "cell_type": "code",
   "execution_count": 71,
   "metadata": {},
   "outputs": [
    {
     "data": {
      "image/png": "[encoded data removed]",
      "text/plain": [
       "<Figure size 432x288 with 1 Axes>"
      ]
     },
     "metadata": {
      "needs_background": "light"
     },
     "output_type": "display_data"
    }
   ],
   "source": [
    "# Get the num of time the player got killed if they chose to be a healer\n",
    "plt.hist(healer_df['Death'], bins=50)\n",
    "f1 = plt.gcf()"
   ]
  },
  {
   "cell_type": "code",
   "execution_count": 72,
   "metadata": {},
   "outputs": [
    {
     "data": {
      "image/png": "[encoded data removed]",
      "text/plain": [
       "<Figure size 432x288 with 1 Axes>"
      ]
     },
     "metadata": {
      "needs_background": "light"
     },
     "output_type": "display_data"
    }
   ],
   "source": [
    "# Get the num of time the player got killed if they chose to be a damage dealer\n",
    "plt.hist(damage_dealer_df['Death'], bins=50)\n",
    "f2 = plt.gcf()"
   ]
  },
  {
   "cell_type": "code",
   "execution_count": 73,
   "metadata": {},
   "outputs": [],
   "source": [
    "#df = df.sort_values(by ='Healing Done' )\n",
    "#plt.hist(df['Healing Done'], bins=50)\n",
    "#f3 = plt.gcf()\n",
    "# df.plot.scatter(x='Healing Done', y='Win');\n",
    "# healer_df['Death'].value_counts()"
   ]
  },
  {
   "cell_type": "code",
   "execution_count": 74,
   "metadata": {},
   "outputs": [
    {
     "data": {
      "text/plain": [
       "Text(0, 0.5, 'Winrate')"
      ]
     },
     "execution_count": 74,
     "metadata": {},
     "output_type": "execute_result"
    },
    {
     "data": {
      "image/png": "[encoded data removed]",
      "text/plain": [
       "<Figure size 432x288 with 1 Axes>"
      ]
     },
     "metadata": {
      "needs_background": "light"
     },
     "output_type": "display_data"
    }
   ],
   "source": [
    "#Winrate as a function of number of deaths\n",
    "a1Death = df.loc[df['Death'] == 1]\n",
    "a2Death = df.loc[df['Death'] == 2]\n",
    "a3Death = df.loc[df['Death'] == 3]\n",
    "a4Death = df.loc[df['Death'] == 4]\n",
    "a5Death = df.loc[df['Death'] == 5]\n",
    "a6Death = df.loc[df['Death'] == 6]\n",
    "a7Death = df.loc[df['Death'] == 7]\n",
    "a8Death = df.loc[df['Death'] == 8]\n",
    "a9Death = df.loc[df['Death'] == 9]\n",
    "a10Death = df.loc[df['Death'] == 10]\n",
    "\n",
    "adeathrate1 = a1Death['Win'].mean()\n",
    "adeathrate2 = a2Death['Win'].mean()\n",
    "adeathrate3 = a3Death['Win'].mean()\n",
    "adeathrate4 = a4Death['Win'].mean()\n",
    "adeathrate5 = a5Death['Win'].mean()\n",
    "adeathrate6 = a6Death['Win'].mean()\n",
    "adeathrate7 = a7Death['Win'].mean()\n",
    "adeathrate8 = a8Death['Win'].mean()\n",
    "adeathrate9 = a9Death['Win'].mean()\n",
    "adeathrate10 = a10Death['Win'].mean()\n",
    "\n",
    "all_death_winrate = {'Number of Deaths':[1,2,3,4,5,6,7,8,9,10], 'Winrate':[adeathrate1,adeathrate2,adeathrate3,adeathrate4,adeathrate5,adeathrate6,adeathrate7,adeathrate8,adeathrate9,adeathrate10]}\n",
    "adwf = pd.DataFrame(all_death_winrate)\n",
    "adwf.plot(x='Number of Deaths', y='Winrate');\n",
    "plt.title('Winrate Based on Number of Deaths')\n",
    "plt.ylabel('Winrate')"
   ]
  },
  {
   "cell_type": "code",
   "execution_count": 75,
   "metadata": {},
   "outputs": [
    {
     "data": {
      "text/plain": [
       "Text(0, 0.5, 'Winrate')"
      ]
     },
     "execution_count": 75,
     "metadata": {},
     "output_type": "execute_result"
    },
    {
     "data": {
      "image/png": "[encoded data removed]",
      "text/plain": [
       "<Figure size 432x288 with 1 Axes>"
      ]
     },
     "metadata": {
      "needs_background": "light"
     },
     "output_type": "display_data"
    }
   ],
   "source": [
    "#Healer Winrate\n",
    "healer1Death = healer_df.loc[healer_df['Death'] == 1]\n",
    "healer2Death = healer_df.loc[healer_df['Death'] == 2]\n",
    "healer3Death = healer_df.loc[healer_df['Death'] == 3]\n",
    "healer4Death = healer_df.loc[healer_df['Death'] == 4]\n",
    "healer5Death = healer_df.loc[healer_df['Death'] == 5]\n",
    "healer6Death = healer_df.loc[healer_df['Death'] == 6]\n",
    "healer7Death = healer_df.loc[healer_df['Death'] == 7]\n",
    "healer8Death = healer_df.loc[healer_df['Death'] == 8]\n",
    "healer9Death = healer_df.loc[healer_df['Death'] == 9]\n",
    "healer10Death = healer_df.loc[healer_df['Death'] == 10]\n",
    "\n",
    "hdeathrate1 = healer1Death['Win'].mean()\n",
    "hdeathrate2 = healer2Death['Win'].mean()\n",
    "hdeathrate3 = healer3Death['Win'].mean()\n",
    "hdeathrate4 = healer4Death['Win'].mean()\n",
    "hdeathrate5 = healer5Death['Win'].mean()\n",
    "hdeathrate6 = healer6Death['Win'].mean()\n",
    "hdeathrate7 = healer7Death['Win'].mean()\n",
    "hdeathrate8 = healer8Death['Win'].mean()\n",
    "hdeathrate9 = healer9Death['Win'].mean()\n",
    "hdeathrate10 = healer10Death['Win'].mean()\n",
    "\n",
    "healer_death_winrate = {'Number of Deaths':[1,2,3,4,5,6,7,8,9,10], 'Winrate':[hdeathrate1,hdeathrate2,hdeathrate3,hdeathrate4,hdeathrate5,hdeathrate6,hdeathrate7,hdeathrate8,hdeathrate9,hdeathrate10]}\n",
    "hdwf = pd.DataFrame(healer_death_winrate)\n",
    "hdwf.plot(x='Number of Deaths', y='Winrate');\n",
    "plt.title('Healer Winrate Based on Number of Deaths')\n",
    "plt.ylabel('Winrate')\n",
    "\n"
   ]
  },
  {
   "cell_type": "code",
   "execution_count": 76,
   "metadata": {},
   "outputs": [
    {
     "data": {
      "text/plain": [
       "Text(0, 0.5, 'Winrate')"
      ]
     },
     "execution_count": 76,
     "metadata": {},
     "output_type": "execute_result"
    },
    {
     "data": {
      "image/png": "[encoded data removed]",
      "text/plain": [
       "<Figure size 432x288 with 1 Axes>"
      ]
     },
     "metadata": {
      "needs_background": "light"
     },
     "output_type": "display_data"
    }
   ],
   "source": [
    "#Dealer Winrate\n",
    "\n",
    "dealer1Death = damage_dealer_df.loc[damage_dealer_df['Death'] == 1]\n",
    "dealer2Death = damage_dealer_df.loc[damage_dealer_df['Death'] == 2]\n",
    "dealer3Death = damage_dealer_df.loc[damage_dealer_df['Death'] == 3]\n",
    "dealer4Death = damage_dealer_df.loc[damage_dealer_df['Death'] == 4]\n",
    "dealer5Death = damage_dealer_df.loc[damage_dealer_df['Death'] == 5]\n",
    "dealer6Death = damage_dealer_df.loc[damage_dealer_df['Death'] == 6]\n",
    "dealer7Death = damage_dealer_df.loc[damage_dealer_df['Death'] == 7]\n",
    "dealer8Death = damage_dealer_df.loc[damage_dealer_df['Death'] == 8]\n",
    "dealer9Death = damage_dealer_df.loc[damage_dealer_df['Death'] == 9]\n",
    "dealer10Death = damage_dealer_df.loc[damage_dealer_df['Death'] == 10]\n",
    "\n",
    "ddeathrate1 = dealer1Death['Win'].mean()\n",
    "ddeathrate2 = dealer2Death['Win'].mean()\n",
    "ddeathrate3 = dealer3Death['Win'].mean()\n",
    "ddeathrate4 = dealer4Death['Win'].mean()\n",
    "ddeathrate5 = dealer5Death['Win'].mean()\n",
    "ddeathrate6 = dealer6Death['Win'].mean()\n",
    "ddeathrate7 = dealer7Death['Win'].mean()\n",
    "ddeathrate8 = dealer8Death['Win'].mean()\n",
    "ddeathrate9 = dealer9Death['Win'].mean()\n",
    "ddeathrate10 = dealer10Death['Win'].mean()\n",
    "\n",
    "dealer_death_winrate = {'Number of Deaths':[1,2,3,4,5,6,7,8,9,10], 'Winrate':[ddeathrate1,ddeathrate2,ddeathrate3,ddeathrate4,ddeathrate5,ddeathrate6,ddeathrate7,ddeathrate8,ddeathrate9,ddeathrate10]}\n",
    "ddwf = pd.DataFrame(dealer_death_winrate)\n",
    "ddwf.plot(x='Number of Deaths', y='Winrate');\n",
    "plt.title('Damage Dealer Winrate Based on Number of Deaths')\n",
    "plt.ylabel('Winrate')"
   ]
  },
  {
   "cell_type": "markdown",
   "metadata": {},
   "source": [
    "## Ethics & Privacy\n",
    "\n",
    "The data in this dataset was collected by the author playing through the battlegrounds himself. The names of the players are anonymized and remain that way. Since this is an online game, there is a high chance that even if the names were not anonymized, it would be an alias of a person instead of that actual person, therefore their identity being compromised would should be little to none. \n",
    "\n",
    "The data collected is from March 2017 - January 2018, so the time frame is very small, but all the data comes from the same expansion. Considering this game has been out for about 13 years at this point and battlegrounds has been a game feature half way into the very first iteration of the game. They only changes would be done during major patches or an expansion release. As for location of data, players are chosen randomly from a battleground queue from different servers. \n",
    "\n",
    "This result of this project is would be to see if what the community feels is true and backed by data or if it is hearsay. Potential influences could also potentially make it so Blizzard improves the way battlegrounds are played or the matchmaking system currently in the place for battlegrounds to give the disadvantaged side a handicap if the data shows that having more healers on one faction in a battelground increases the win for said faction."
   ]
  },
  {
   "cell_type": "markdown",
   "metadata": {},
   "source": [
    "## Conclusion & Discussion\n",
    "\n",
    "In our research, we aimed to determine whether a team that has more healers is able to increase their winning chances on a battleground. We developed and compared three models containing multiple samples of every character in the game that describes their battleground, code, faction, class, wins and losses. In our first model, we plotted a scatter matrix that is a cumulative representation of our data which has a plot of all of the given data in the dataframe. In our second model, we organized each of the characters by their healing distribution that indicates how much healing they’ve completed. And in our last model, we plotted the number of deaths each character has committed; a healer’s death doesn’t influence their win rate as much as a damage dealer’s win rate. Therefore, healers have more room for error which may explain their higher win rate. Although it’s been generalized frequently that a greater number of healers correlate to a higher chance of winning the game, a few limitations of our analysis include a lack of previous studies in the research area and scope of discussions. With all of our findings, we were able to determine whether or not a greater number of healers on a team is able to increase their chances of winning the game."
   ]
  }
 ],
 "metadata": {
  "kernelspec": {
   "display_name": "Python 3",
   "language": "python",
   "name": "python3"
  },
  "language_info": {
   "codemirror_mode": {
    "name": "ipython",
    "version": 3
   },
   "file_extension": ".py",
   "mimetype": "text/x-python",
   "name": "python",
   "nbconvert_exporter": "python",
   "pygments_lexer": "ipython3",
   "version": "3.6.7"
  }
 },
 "nbformat": 4,
 "nbformat_minor": 4
}
