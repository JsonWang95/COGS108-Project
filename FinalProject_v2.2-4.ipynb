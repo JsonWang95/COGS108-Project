{
 "cells": [
  {
   "cell_type": "markdown",
   "metadata": {},
   "source": [
    "# COGS 108 - Final Project\n",
    "## Group 067"
   ]
  },
  {
   "cell_type": "markdown",
   "metadata": {},
   "source": [
    "### Names\n",
    "\n",
    "- Darwin Lee; github: snaivy\n",
    "- Yu-Sen Wang; github: Yu-Sen-Wang\n",
    "- Shoumil Sarkar; github: ShoumilSarkar\n",
    "- Irene Lue; github: irenelue"
   ]
  },
  {
   "cell_type": "markdown",
   "metadata": {},
   "source": [
    "### Group Members IDs\n",
    "\n",
    "- A15730835\n",
    "- A14910881\n",
    "- A15306683\n",
    "- A15754235"
   ]
  },
  {
   "cell_type": "markdown",
   "metadata": {},
   "source": [
    "## Introduction & Background"
   ]
  },
  {
   "cell_type": "markdown",
   "metadata": {},
   "source": [
    "### Overview\n",
    "\n",
    "World of Warcraft (WoW) is a MMORPG (massively multiplayer online role-playing game) created by Blizzard Entertainment. In this context, we wil be focusing on the player versus player (PvP) aspect of the game. \n",
    "\n",
    "We are interested in determining if having more healers on a team during a battleground increases the chances of that team winning said battleground. Healers take on a support role and mend fellow teammates to help them win the battleground. Due to World of Warcraft's matchmaking system, sometimes there is an imbalance of roles on a certain team, where one team may have 0-1 healers and the opposing side would have 2+ healers. This is a sentiment felt the community and often echoed in battleground chat when playing battlegrounds. We wanted to find out if this is backed by data or if it just feels like more healers on one side increases their chances of winning the battleground."
   ]
  },
  {
   "cell_type": "markdown",
   "metadata": {},
   "source": [
    "### Research Question\n",
    "\n",
    "What we want to explore is if having more healers on one faction versus the other in battlegrounds can increase your chances of winning and if this a weekend with a bonus battleground event changes this trend."
   ]
  },
  {
   "cell_type": "markdown",
   "metadata": {},
   "source": [
    "### Background & Prior Work\n",
    "\n",
    "The data found for World of Warcraft battlegrounds is player data collected from March 2017 - January 2018. It comes from the score screen displayed at the end of each battleground match is completed. The author here added a few extra columns to include statistics on things he thought would be of importance. The data is all from one person. \n",
    "\n",
    "Information we currently have are trends and things that are commonly commented within the World of Warcraft community whether it be through world of mouth, friends, online fourms, in-game world chat, etc.. We want to attempt and see if said trends are hearsay felt by the community or if there is actual data that supports what people are feeling and supposedly seeing. \n",
    "\n",
    "References:\n",
    "1. https://www.kaggle.com/cblesa/world-of-warcraft-battlegrounds/data\n",
    "2. https://us.forums.blizzard.com/en/wow/t/healer-ratio-imbalance/193266\n",
    "3. https://us.battle.net/forums/en/wow/topic/11987848986?page=1"
   ]
  },
  {
   "cell_type": "markdown",
   "metadata": {},
   "source": [
    "### Hypothesis \n",
    "\n",
    "- We think that the side with more healers does have a greater chance of winning. \n",
    "- Personally after playing the game for 13+ years, I feel what the community feels and says."
   ]
  },
  {
   "cell_type": "markdown",
   "metadata": {},
   "source": [
    "## Dataset(s)\n",
    "- Dataset Name: World of Warcraft Battlegrounds \n",
    "- Link to the dataset: https://www.kaggle.com/cblesa/world-of-warcraft-battlegrounds/data\n",
    "- Number of observations: 14\n",
    "- This is a dataset about World of Warcraft Battlegrounds. The data comes from a score screen displayed at the end of each battleground match. The data was recorded by a single after every battleground they finished. \n"
   ]
  },
  {
   "cell_type": "markdown",
   "metadata": {},
   "source": [
    "### Setup"
   ]
  },
  {
   "cell_type": "code",
   "execution_count": null,
   "metadata": {},
   "outputs": [],
   "source": [
    "# Imports\n",
    "\n",
    "%matplotlib inline\n",
    "import numpy as np\n",
    "import pandas as pd \n",
    "import matplotlib.pyplot as plt\n",
    "import seaborn as sns\n",
    "\n",
    "import patsy\n",
    "import statsmodels.api as sm \n",
    "import scipy.stats as stats \n",
    "from scipy.stats import ttest_ind, chisquare, normaltest"
   ]
  },
  {
   "cell_type": "code",
   "execution_count": null,
   "metadata": {},
   "outputs": [],
   "source": [
    "df = pd.read_csv(\"wowbgs.csv\")"
   ]
  },
  {
   "cell_type": "code",
   "execution_count": null,
   "metadata": {},
   "outputs": [],
   "source": [
    "df.head(9)"
   ]
  },
  {
   "cell_type": "markdown",
   "metadata": {},
   "source": [
    "## Data Analysis"
   ]
  },
  {
   "cell_type": "markdown",
   "metadata": {},
   "source": [
    "### Data Cleaning \n",
    "\n",
    "Since this is all from one author, and the data was taken directly from the score screen that appears right after a battleground is completed, not much data cleaning was required at all. \n",
    "\n",
    "- We analyzed columns that were important to what we are trying to explore and put those into it's own dataframe.\n",
    "- Replaced `NaN` values with actual number values, since `NaN` in this case represents false, so we changed all of those values into `0`'s. \n",
    "- Renamed certain columns for clarity, as such `dps` to `Damage Dealer` and `heal` to `Healer`. \n",
    "- Replaced the `0`'s and `1`'s to `Not Happened` or `Happened` in the _Bonus Event_ column for clarity and easier analysis."
   ]
  },
  {
   "cell_type": "code",
   "execution_count": null,
   "metadata": {},
   "outputs": [],
   "source": [
    "df = df.drop(['Battleground', 'Code', 'KB', 'HK', 'DD', 'Lose'], axis=1)"
   ]
  },
  {
   "cell_type": "code",
   "execution_count": null,
   "metadata": {},
   "outputs": [],
   "source": [
    "df"
   ]
  },
  {
   "cell_type": "code",
   "execution_count": null,
   "metadata": {},
   "outputs": [],
   "source": [
    "# NaN in columns 'Win', 'Lose', and 'BE' are set to 0\n",
    "df.fillna(0, inplace=True)"
   ]
  },
  {
   "cell_type": "code",
   "execution_count": null,
   "metadata": {},
   "outputs": [],
   "source": [
    "df"
   ]
  },
  {
   "cell_type": "code",
   "execution_count": null,
   "metadata": {},
   "outputs": [],
   "source": [
    "# Renaming the columns so they make more sense to people who never played World of Warcraft before\n",
    "df = df.rename(index=str, columns={'Faction': 'Team', 'D': 'Death', 'HD': 'Healing Done', 'Rol': 'Healer/Damage Dealer', 'BE': 'Bonus Event'})"
   ]
  },
  {
   "cell_type": "code",
   "execution_count": null,
   "metadata": {},
   "outputs": [],
   "source": [
    "# Reorder the columns so that it's easier for us to see if the healing type role or dps type role affects the win rate a lot\n",
    "df = df[['Team', 'Class', 'Healer/Damage Dealer', 'Death', 'Healing Done', 'Bonus Event', 'Win', 'Honor']]"
   ]
  },
  {
   "cell_type": "code",
   "execution_count": null,
   "metadata": {},
   "outputs": [],
   "source": [
    "df"
   ]
  },
  {
   "cell_type": "markdown",
   "metadata": {},
   "source": [
    "#### Standardize the 'Healer/Damage Dealer' columns because people who never played this game before might not know what dps mean"
   ]
  },
  {
   "cell_type": "code",
   "execution_count": null,
   "metadata": {},
   "outputs": [],
   "source": [
    "def standardize_role(string):\n",
    "    \n",
    "    if \"dps\" in string:\n",
    "        output = \"Damage Dealer\"\n",
    "    elif \"heal\" in string:\n",
    "        output = \"Healer\"\n",
    "    \n",
    "    return output"
   ]
  },
  {
   "cell_type": "markdown",
   "metadata": {},
   "source": [
    "#### Standardize the 'Bonus Event' column so it's easier to analyze"
   ]
  },
  {
   "cell_type": "code",
   "execution_count": null,
   "metadata": {},
   "outputs": [],
   "source": [
    "def standardize_bonus_event(event):\n",
    "    \n",
    "    if event == 0.0:\n",
    "        result = \"Not happened\"\n",
    "    elif event == 1.0:\n",
    "        result = \"Happened\"\n",
    "    return result"
   ]
  },
  {
   "cell_type": "code",
   "execution_count": null,
   "metadata": {},
   "outputs": [],
   "source": [
    "# Apply the method to the 'Healer/Damage Dealer' column\n",
    "df[\"Healer/Damage Dealer\"] = df[\"Healer/Damage Dealer\"].apply(standardize_role)\n",
    "df[\"Bonus Event\"] = df[\"Bonus Event\"].apply(standardize_bonus_event)"
   ]
  },
  {
   "cell_type": "code",
   "execution_count": null,
   "metadata": {},
   "outputs": [],
   "source": [
    "df"
   ]
  },
  {
   "cell_type": "markdown",
   "metadata": {},
   "source": [
    "### Data Visualization"
   ]
  },
  {
   "cell_type": "code",
   "execution_count": null,
   "metadata": {},
   "outputs": [],
   "source": [
    "fig = pd.plotting.scatter_matrix(df)"
   ]
  },
  {
   "cell_type": "code",
   "execution_count": null,
   "metadata": {},
   "outputs": [],
   "source": [
    "classPlot = df['Class'].value_counts().plot.bar()\n",
    "classPlot.set(xlabel=\"Type of Class\", ylabel=\"Number of Clases\")"
   ]
  },
  {
   "cell_type": "code",
   "execution_count": null,
   "metadata": {},
   "outputs": [],
   "source": [
    "# Use a barchart to demonstrate the Healing Done of different classes\n",
    "df['Healing Done'] = df['Healing Done'].astype('int64')\n",
    "f,ax = plt.subplots(figsize=(18,11))\n",
    "sns.barplot(x='Healing Done',y='Class',data=df,lw =2.5);\n",
    "ax.set(ylabel='All the characters', xlabel= 'Healing done by each character',);\n",
    "plt.title('Healing Distribution',fontsize=(18));\n",
    "plt.show()"
   ]
  },
  {
   "cell_type": "code",
   "execution_count": null,
   "metadata": {},
   "outputs": [],
   "source": [
    "df[df['Healer/Damage Dealer'] == 'Healer']['Class'].hist()\n",
    "f2 = plt.gcf()"
   ]
  },
  {
   "cell_type": "markdown",
   "metadata": {},
   "source": [
    "### Data Analysis & Results\n",
    "\n",
    "Include cells that describe the steps in your data analysis"
   ]
  },
  {
   "cell_type": "code",
   "execution_count": null,
   "metadata": {},
   "outputs": [],
   "source": [
    "# Calculate the win rate if one chooses to play a healer role\n",
    "healer_df = df.loc[df['Healer/Damage Dealer'] == 'Healer']\n",
    "healer_wins = (healer_df['Win'] == 1.0).sum()\n",
    "num_of_healer = len(healer_df)\n",
    "print(healer_df)\n",
    "print(healer_wins/num_of_healer)\n",
    "print('Win rate when playing a Healer: %',(healer_wins/num_of_healer)*100)\n",
    "\n",
    "# Calculate the win rate if one chooses to play a damage dealer role\n",
    "damage_dealer_df = df.loc[df['Healer/Damage Dealer'] == 'Damage Dealer']\n",
    "damage_dealer_wins = (damage_dealer_df['Win'] == 1.0).sum()\n",
    "num_of_damage_dealer = len(damage_dealer_df)\n",
    "print(damage_dealer_df)\n",
    "print(damage_dealer_wins/num_of_damage_dealer)\n",
    "print('Win rate when playing a Damage Dealer: %',(damage_dealer_wins/num_of_damage_dealer)*100)"
   ]
  },
  {
   "cell_type": "code",
   "execution_count": null,
   "metadata": {},
   "outputs": [],
   "source": [
    "# Get the num of time the player got killed if they chose to be a healer\n",
    "plt.hist(healer_df['Death'], bins=50)\n",
    "f1 = plt.gcf()"
   ]
  },
  {
   "cell_type": "code",
   "execution_count": null,
   "metadata": {},
   "outputs": [],
   "source": [
    "# Get the num of time the player got killed if they chose to be a damage dealer\n",
    "plt.hist(damage_dealer_df['Death'], bins=50)\n",
    "f2 = plt.gcf()"
   ]
  },
  {
   "cell_type": "code",
   "execution_count": null,
   "metadata": {},
   "outputs": [],
   "source": [
    "#df = df.sort_values(by ='Healing Done' )\n",
    "#plt.hist(df['Healing Done'], bins=50)\n",
    "#f3 = plt.gcf()\n",
    "# df.plot.scatter(x='Healing Done', y='Win');\n",
    "# healer_df['Death'].value_counts()"
   ]
  },
  {
   "cell_type": "code",
   "execution_count": null,
   "metadata": {},
   "outputs": [],
   "source": [
    "#Winrate as a function of number of deaths\n",
    "a1Death = df.loc[df['Death'] == 1]\n",
    "a2Death = df.loc[df['Death'] == 2]\n",
    "a3Death = df.loc[df['Death'] == 3]\n",
    "a4Death = df.loc[df['Death'] == 4]\n",
    "a5Death = df.loc[df['Death'] == 5]\n",
    "a6Death = df.loc[df['Death'] == 6]\n",
    "a7Death = df.loc[df['Death'] == 7]\n",
    "a8Death = df.loc[df['Death'] == 8]\n",
    "a9Death = df.loc[df['Death'] == 9]\n",
    "a10Death = df.loc[df['Death'] == 10]\n",
    "\n",
    "adeathrate1 = a1Death['Win'].mean()\n",
    "adeathrate2 = a2Death['Win'].mean()\n",
    "adeathrate3 = a3Death['Win'].mean()\n",
    "adeathrate4 = a4Death['Win'].mean()\n",
    "adeathrate5 = a5Death['Win'].mean()\n",
    "adeathrate6 = a6Death['Win'].mean()\n",
    "adeathrate7 = a7Death['Win'].mean()\n",
    "adeathrate8 = a8Death['Win'].mean()\n",
    "adeathrate9 = a9Death['Win'].mean()\n",
    "adeathrate10 = a10Death['Win'].mean()\n",
    "\n",
    "all_death_winrate = {'Number of Deaths':[1,2,3,4,5,6,7,8,9,10], 'Winrate':[adeathrate1,adeathrate2,adeathrate3,adeathrate4,adeathrate5,adeathrate6,adeathrate7,adeathrate8,adeathrate9,adeathrate10]}\n",
    "adwf = pd.DataFrame(all_death_winrate)\n",
    "adwf.plot(x='Number of Deaths', y='Winrate');\n",
    "plt.title('Winrate Based on Number of Deaths')\n",
    "plt.ylabel('Winrate')"
   ]
  },
  {
   "cell_type": "code",
   "execution_count": null,
   "metadata": {},
   "outputs": [],
   "source": [
    "#Healer Winrate\n",
    "healer1Death = healer_df.loc[healer_df['Death'] == 1]\n",
    "healer2Death = healer_df.loc[healer_df['Death'] == 2]\n",
    "healer3Death = healer_df.loc[healer_df['Death'] == 3]\n",
    "healer4Death = healer_df.loc[healer_df['Death'] == 4]\n",
    "healer5Death = healer_df.loc[healer_df['Death'] == 5]\n",
    "healer6Death = healer_df.loc[healer_df['Death'] == 6]\n",
    "healer7Death = healer_df.loc[healer_df['Death'] == 7]\n",
    "healer8Death = healer_df.loc[healer_df['Death'] == 8]\n",
    "healer9Death = healer_df.loc[healer_df['Death'] == 9]\n",
    "healer10Death = healer_df.loc[healer_df['Death'] == 10]\n",
    "\n",
    "hdeathrate1 = healer1Death['Win'].mean()\n",
    "hdeathrate2 = healer2Death['Win'].mean()\n",
    "hdeathrate3 = healer3Death['Win'].mean()\n",
    "hdeathrate4 = healer4Death['Win'].mean()\n",
    "hdeathrate5 = healer5Death['Win'].mean()\n",
    "hdeathrate6 = healer6Death['Win'].mean()\n",
    "hdeathrate7 = healer7Death['Win'].mean()\n",
    "hdeathrate8 = healer8Death['Win'].mean()\n",
    "hdeathrate9 = healer9Death['Win'].mean()\n",
    "hdeathrate10 = healer10Death['Win'].mean()\n",
    "\n",
    "healer_death_winrate = {'Number of Deaths':[1,2,3,4,5,6,7,8,9,10], 'Winrate':[hdeathrate1,hdeathrate2,hdeathrate3,hdeathrate4,hdeathrate5,hdeathrate6,hdeathrate7,hdeathrate8,hdeathrate9,hdeathrate10]}\n",
    "hdwf = pd.DataFrame(healer_death_winrate)\n",
    "hdwf.plot(x='Number of Deaths', y='Winrate');\n",
    "plt.title('Healer Winrate Based on Number of Deaths')\n",
    "plt.ylabel('Winrate')\n",
    "\n"
   ]
  },
  {
   "cell_type": "code",
   "execution_count": null,
   "metadata": {},
   "outputs": [],
   "source": [
    "#Dealer Winrate\n",
    "\n",
    "dealer1Death = damage_dealer_df.loc[damage_dealer_df['Death'] == 1]\n",
    "dealer2Death = damage_dealer_df.loc[damage_dealer_df['Death'] == 2]\n",
    "dealer3Death = damage_dealer_df.loc[damage_dealer_df['Death'] == 3]\n",
    "dealer4Death = damage_dealer_df.loc[damage_dealer_df['Death'] == 4]\n",
    "dealer5Death = damage_dealer_df.loc[damage_dealer_df['Death'] == 5]\n",
    "dealer6Death = damage_dealer_df.loc[damage_dealer_df['Death'] == 6]\n",
    "dealer7Death = damage_dealer_df.loc[damage_dealer_df['Death'] == 7]\n",
    "dealer8Death = damage_dealer_df.loc[damage_dealer_df['Death'] == 8]\n",
    "dealer9Death = damage_dealer_df.loc[damage_dealer_df['Death'] == 9]\n",
    "dealer10Death = damage_dealer_df.loc[damage_dealer_df['Death'] == 10]\n",
    "\n",
    "ddeathrate1 = dealer1Death['Win'].mean()\n",
    "ddeathrate2 = dealer2Death['Win'].mean()\n",
    "ddeathrate3 = dealer3Death['Win'].mean()\n",
    "ddeathrate4 = dealer4Death['Win'].mean()\n",
    "ddeathrate5 = dealer5Death['Win'].mean()\n",
    "ddeathrate6 = dealer6Death['Win'].mean()\n",
    "ddeathrate7 = dealer7Death['Win'].mean()\n",
    "ddeathrate8 = dealer8Death['Win'].mean()\n",
    "ddeathrate9 = dealer9Death['Win'].mean()\n",
    "ddeathrate10 = dealer10Death['Win'].mean()\n",
    "\n",
    "dealer_death_winrate = {'Number of Deaths':[1,2,3,4,5,6,7,8,9,10], 'Winrate':[ddeathrate1,ddeathrate2,ddeathrate3,ddeathrate4,ddeathrate5,ddeathrate6,ddeathrate7,ddeathrate8,ddeathrate9,ddeathrate10]}\n",
    "ddwf = pd.DataFrame(dealer_death_winrate)\n",
    "ddwf.plot(x='Number of Deaths', y='Winrate');\n",
    "plt.title('Damage Dealer Winrate Based on Number of Deaths')\n",
    "plt.ylabel('Winrate')"
   ]
  },
  {
   "cell_type": "markdown",
   "metadata": {},
   "source": [
    "## Ethics & Privacy\n",
    "\n",
    "The data in this dataset was collected by the author playing through the battlegrounds himself. The names of the players are anonymized and remain that way. Since this is an online game, there is a high chance that even if the names were not anonymized, it would be an alias of a person instead of that actual person, therefore their identity being compromised would should be little to none. \n",
    "\n",
    "The data collected is from March 2017 - January 2018, so the time frame is very small, but all the data comes from the same expansion. Considering this game has been out for about 13 years at this point and battlegrounds has been a game feature half way into the very first iteration of the game. They only changes would be done during major patches or an expansion release. As for location of data, players are chosen randomly from a battleground queue from different servers. \n",
    "\n",
    "This result of this project is would be to see if what the community feels is true and backed by data or if it is hearsay. Potential influences could also potentially make it so Blizzard improves the way battlegrounds are played or the matchmaking system currently in the place for battlegrounds to give the disadvantaged side a handicap if the data shows that having more healers on one faction in a battelground increases the win for said faction."
   ]
  },
  {
   "cell_type": "markdown",
   "metadata": {},
   "source": [
    "## Conclusion & Discussion\n",
    "\n",
    "Fill in your discussion information here"
   ]
  },
  {
   "cell_type": "code",
   "execution_count": null,
   "metadata": {},
   "outputs": [],
   "source": [
    "In our research, we aimed to determine whether a team that has more healers is able to increase their winning chances on a battleground. We developed and compared three models containing multiple samples of every character in the game that describes their battleground, code, faction, class, wins and losses. In our first model, we plotted a scatter matrix that is a cumulative representation of our data which has a plot of all of the given data in the dataframe. In our second model, we organized each of the characters by their healing distribution that indicates how much healing they’ve completed. And in our last model, we plotted the number of deaths each character has committed; a healer’s death doesn’t influence their win rate as much as a damage dealer’s win rate. Therefore, healers have more room for error which may explain their higher win rate. Although it’s been generalized frequently that a greater number of healers correlate to a higher chance of winning the game, a few limitations of our analysis include a lack of previous studies in the research area and scope of discussions. With all of our findings, we were able to determine whether or not a greater number of healers on a team is able to increase their chances of winning the game."
   ]
  },
  {
   "cell_type": "code",
   "execution_count": null,
   "metadata": {},
   "outputs": [],
   "source": []
  },
  {
   "cell_type": "code",
   "execution_count": null,
   "metadata": {},
   "outputs": [],
   "source": []
  }
 ],
 "metadata": {
  "kernelspec": {
   "display_name": "Python 3",
   "language": "python",
   "name": "python3"
  },
  "language_info": {
   "codemirror_mode": {
    "name": "ipython",
    "version": 3
   },
   "file_extension": ".py",
   "mimetype": "text/x-python",
   "name": "python",
   "nbconvert_exporter": "python",
   "pygments_lexer": "ipython3",
   "version": "3.7.3"
  }
 },
 "nbformat": 4,
 "nbformat_minor": 4
}
